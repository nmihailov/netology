{
 "cells": [
  {
   "cell_type": "code",
   "execution_count": 109,
   "metadata": {},
   "outputs": [
    {
     "data": {
      "text/plain": [
       "{'Яйцо': {'measure': 'шт', 'quantity': 4},\n",
       " 'Молоко': {'measure': 'мл', 'quantity': 200},\n",
       " 'Помидор': {'measure': 'шт', 'quantity': 4},\n",
       " 'Утка': {'measure': 'шт', 'quantity': 2},\n",
       " 'Вода': {'measure': 'л', 'quantity': 4},\n",
       " 'Мед': {'measure': 'ст.л', 'quantity': 6},\n",
       " 'Соевый соус': {'measure': 'мл', 'quantity': 120}}"
      ]
     },
     "execution_count": 109,
     "metadata": {},
     "output_type": "execute_result"
    }
   ],
   "source": [
    "def get_dict(filename):\n",
    "    '''Запись из файла в словарь'''\n",
    "    dish = []\n",
    "    count_dishes = []\n",
    "    list1 = ['ingredient', 'count', 'measure']\n",
    "    with open(filename) as f:\n",
    "        for line in f:\n",
    "            if line == '\\n':\n",
    "                dish.append(f.readline().strip())\n",
    "                count = int(f.readline())\n",
    "                count_dishes.append([dict(zip(list1, next(f).strip().split(' | '))) for x in range(count)])\n",
    "                \n",
    "    cook_book = dict(zip(dish, count_dishes))\n",
    "    return cook_book\n",
    "\n",
    "\n",
    "\n",
    "def get_shop_list_by_dishes(dishes:list, person_count:int):\n",
    "    dictionary = get_dict('dz.txt')\n",
    "    ingredients = []\n",
    "    meas_quan = []\n",
    "    for meal in dishes:\n",
    "        for key in dictionary.keys():\n",
    "            if key == meal:\n",
    "                for element in dictionary[key]:\n",
    "                    ingredients.append(element['ingredient'])\n",
    "                    meas_quan.append({'measure': element['measure'], 'quantity':int(element['count']) * person_count})\n",
    "                \n",
    "    shop_list = dict(zip(ingredients, meas_quan))\n",
    "    return shop_list\n",
    "        \n",
    "            \n",
    "get_shop_list_by_dishes(['Омлет', 'Утка по-пекински'], 2)"
   ]
  },
  {
   "cell_type": "code",
   "execution_count": null,
   "metadata": {},
   "outputs": [],
   "source": []
  }
 ],
 "metadata": {
  "kernelspec": {
   "display_name": "Python 3",
   "language": "python",
   "name": "python3"
  },
  "language_info": {
   "codemirror_mode": {
    "name": "ipython",
    "version": 3
   },
   "file_extension": ".py",
   "mimetype": "text/x-python",
   "name": "python",
   "nbconvert_exporter": "python",
   "pygments_lexer": "ipython3",
   "version": "3.6.5"
  }
 },
 "nbformat": 4,
 "nbformat_minor": 2
}
